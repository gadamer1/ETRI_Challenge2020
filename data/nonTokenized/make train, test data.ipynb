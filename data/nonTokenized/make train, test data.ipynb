{
 "cells": [
  {
   "cell_type": "code",
   "execution_count": 159,
   "metadata": {},
   "outputs": [],
   "source": [
    "# ddata 가져오기\n",
    "import pandas as pd\n",
    "ddata = pd.read_csv('ddata.txt', sep='\\t', encoding='CP949', header=None, names=['No.', 'speaker', 'talk', 'TAG'])"
   ]
  },
  {
   "cell_type": "code",
   "execution_count": 160,
   "metadata": {},
   "outputs": [
    {
     "data": {
      "text/html": [
       "<div>\n",
       "<style scoped>\n",
       "    .dataframe tbody tr th:only-of-type {\n",
       "        vertical-align: middle;\n",
       "    }\n",
       "\n",
       "    .dataframe tbody tr th {\n",
       "        vertical-align: top;\n",
       "    }\n",
       "\n",
       "    .dataframe thead th {\n",
       "        text-align: right;\n",
       "    }\n",
       "</style>\n",
       "<table border=\"1\" class=\"dataframe\">\n",
       "  <thead>\n",
       "    <tr style=\"text-align: right;\">\n",
       "      <th></th>\n",
       "      <th>No.</th>\n",
       "      <th>speaker</th>\n",
       "      <th>talk</th>\n",
       "      <th>TAG</th>\n",
       "    </tr>\n",
       "  </thead>\n",
       "  <tbody>\n",
       "    <tr>\n",
       "      <th>0</th>\n",
       "      <td>0.0</td>\n",
       "      <td>&lt;CO&gt;</td>\n",
       "      <td>어서오세요. 코디봇입니다. 무엇을 도와드릴까요?</td>\n",
       "      <td>INTRO</td>\n",
       "    </tr>\n",
       "    <tr>\n",
       "      <th>1</th>\n",
       "      <td>1.0</td>\n",
       "      <td>&lt;US&gt;</td>\n",
       "      <td>처음 대학교 들어가는데 입을 옷 코디해주세요.</td>\n",
       "      <td>NaN</td>\n",
       "    </tr>\n",
       "    <tr>\n",
       "      <th>2</th>\n",
       "      <td>2.0</td>\n",
       "      <td>&lt;CO&gt;</td>\n",
       "      <td>신입생 코디에 어울리게 화사한 스웨터를 추천해드릴게요.</td>\n",
       "      <td>EXP_RES_SITUATION;EXP_RES_DESCRIPTION</td>\n",
       "    </tr>\n",
       "    <tr>\n",
       "      <th>3</th>\n",
       "      <td>3.0</td>\n",
       "      <td>&lt;AC&gt;</td>\n",
       "      <td>SW-009</td>\n",
       "      <td>NaN</td>\n",
       "    </tr>\n",
       "    <tr>\n",
       "      <th>4</th>\n",
       "      <td>4.0</td>\n",
       "      <td>&lt;US&gt;</td>\n",
       "      <td>이 옷에 어울리는 치마로 추천해주세요.</td>\n",
       "      <td>USER_SUCCESS</td>\n",
       "    </tr>\n",
       "  </tbody>\n",
       "</table>\n",
       "</div>"
      ],
      "text/plain": [
       "   No. speaker                             talk  \\\n",
       "0  0.0    <CO>       어서오세요. 코디봇입니다. 무엇을 도와드릴까요?   \n",
       "1  1.0    <US>        처음 대학교 들어가는데 입을 옷 코디해주세요.   \n",
       "2  2.0    <CO>   신입생 코디에 어울리게 화사한 스웨터를 추천해드릴게요.   \n",
       "3  3.0    <AC>                           SW-009   \n",
       "4  4.0    <US>            이 옷에 어울리는 치마로 추천해주세요.   \n",
       "\n",
       "                                     TAG  \n",
       "0                                  INTRO  \n",
       "1                                    NaN  \n",
       "2  EXP_RES_SITUATION;EXP_RES_DESCRIPTION  \n",
       "3                                    NaN  \n",
       "4                           USER_SUCCESS  "
      ]
     },
     "execution_count": 160,
     "metadata": {},
     "output_type": "execute_result"
    }
   ],
   "source": [
    "ddata.head()"
   ]
  },
  {
   "cell_type": "code",
   "execution_count": 161,
   "metadata": {},
   "outputs": [
    {
     "name": "stdout",
     "output_type": "stream",
     "text": [
      "154677\n"
     ]
    }
   ],
   "source": [
    "print(len(ddata))"
   ]
  },
  {
   "cell_type": "code",
   "execution_count": 162,
   "metadata": {},
   "outputs": [
    {
     "data": {
      "text/plain": [
       "True"
      ]
     },
     "execution_count": 162,
     "metadata": {},
     "output_type": "execute_result"
    }
   ],
   "source": [
    "# null 값 확인\n",
    "ddata.isnull().values.any()"
   ]
  },
  {
   "cell_type": "code",
   "execution_count": 163,
   "metadata": {},
   "outputs": [
    {
     "data": {
      "text/plain": [
       "No.           15\n",
       "speaker        1\n",
       "talk          15\n",
       "TAG        51938\n",
       "dtype: int64"
      ]
     },
     "execution_count": 163,
     "metadata": {},
     "output_type": "execute_result"
    }
   ],
   "source": [
    "ddata.isnull().sum()"
   ]
  },
  {
   "cell_type": "code",
   "execution_count": 166,
   "metadata": {},
   "outputs": [],
   "source": [
    "# ddata['talk']의 null값 drop 및 reindexing\n",
    "ddata = ddata.dropna(thresh=2)\n",
    "ddata = ddata.reset_index(drop=True)"
   ]
  },
  {
   "cell_type": "code",
   "execution_count": 167,
   "metadata": {},
   "outputs": [
    {
     "data": {
      "text/html": [
       "<div>\n",
       "<style scoped>\n",
       "    .dataframe tbody tr th:only-of-type {\n",
       "        vertical-align: middle;\n",
       "    }\n",
       "\n",
       "    .dataframe tbody tr th {\n",
       "        vertical-align: top;\n",
       "    }\n",
       "\n",
       "    .dataframe thead th {\n",
       "        text-align: right;\n",
       "    }\n",
       "</style>\n",
       "<table border=\"1\" class=\"dataframe\">\n",
       "  <thead>\n",
       "    <tr style=\"text-align: right;\">\n",
       "      <th></th>\n",
       "      <th>No.</th>\n",
       "      <th>speaker</th>\n",
       "      <th>talk</th>\n",
       "      <th>TAG</th>\n",
       "    </tr>\n",
       "  </thead>\n",
       "  <tbody>\n",
       "    <tr>\n",
       "      <th>0</th>\n",
       "      <td>0.0</td>\n",
       "      <td>&lt;CO&gt;</td>\n",
       "      <td>어서오세요. 코디봇입니다. 무엇을 도와드릴까요?</td>\n",
       "      <td>INTRO</td>\n",
       "    </tr>\n",
       "    <tr>\n",
       "      <th>1</th>\n",
       "      <td>1.0</td>\n",
       "      <td>&lt;US&gt;</td>\n",
       "      <td>처음 대학교 들어가는데 입을 옷 코디해주세요.</td>\n",
       "      <td>NaN</td>\n",
       "    </tr>\n",
       "    <tr>\n",
       "      <th>2</th>\n",
       "      <td>2.0</td>\n",
       "      <td>&lt;CO&gt;</td>\n",
       "      <td>신입생 코디에 어울리게 화사한 스웨터를 추천해드릴게요.</td>\n",
       "      <td>EXP_RES_SITUATION;EXP_RES_DESCRIPTION</td>\n",
       "    </tr>\n",
       "    <tr>\n",
       "      <th>3</th>\n",
       "      <td>3.0</td>\n",
       "      <td>&lt;AC&gt;</td>\n",
       "      <td>SW-009</td>\n",
       "      <td>NaN</td>\n",
       "    </tr>\n",
       "    <tr>\n",
       "      <th>4</th>\n",
       "      <td>4.0</td>\n",
       "      <td>&lt;US&gt;</td>\n",
       "      <td>이 옷에 어울리는 치마로 추천해주세요.</td>\n",
       "      <td>USER_SUCCESS</td>\n",
       "    </tr>\n",
       "  </tbody>\n",
       "</table>\n",
       "</div>"
      ],
      "text/plain": [
       "   No. speaker                             talk  \\\n",
       "0  0.0    <CO>       어서오세요. 코디봇입니다. 무엇을 도와드릴까요?   \n",
       "1  1.0    <US>        처음 대학교 들어가는데 입을 옷 코디해주세요.   \n",
       "2  2.0    <CO>   신입생 코디에 어울리게 화사한 스웨터를 추천해드릴게요.   \n",
       "3  3.0    <AC>                           SW-009   \n",
       "4  4.0    <US>            이 옷에 어울리는 치마로 추천해주세요.   \n",
       "\n",
       "                                     TAG  \n",
       "0                                  INTRO  \n",
       "1                                    NaN  \n",
       "2  EXP_RES_SITUATION;EXP_RES_DESCRIPTION  \n",
       "3                                    NaN  \n",
       "4                           USER_SUCCESS  "
      ]
     },
     "execution_count": 167,
     "metadata": {},
     "output_type": "execute_result"
    }
   ],
   "source": [
    "ddata.head()"
   ]
  },
  {
   "cell_type": "code",
   "execution_count": 168,
   "metadata": {},
   "outputs": [
    {
     "name": "stdout",
     "output_type": "stream",
     "text": [
      "154662\n"
     ]
    }
   ],
   "source": [
    "print(len(ddata))"
   ]
  },
  {
   "cell_type": "code",
   "execution_count": 169,
   "metadata": {},
   "outputs": [
    {
     "data": {
      "text/plain": [
       "No.            0\n",
       "speaker        0\n",
       "talk           0\n",
       "TAG        51923\n",
       "dtype: int64"
      ]
     },
     "execution_count": 169,
     "metadata": {},
     "output_type": "execute_result"
    }
   ],
   "source": [
    "ddata.isnull().sum()"
   ]
  },
  {
   "cell_type": "code",
   "execution_count": 181,
   "metadata": {},
   "outputs": [
    {
     "name": "stdout",
     "output_type": "stream",
     "text": [
      "['  처음 대학교 들어가는데 입을 옷 코디해주세요.  신입생 코디에 어울리게 화사한 스웨터를 추천해드릴게요.', '  처음 대학교 들어가는데 입을 옷 코디해주세요.  신입생 코디에 어울리게 화사한 스웨터를 추천해드릴게요.  이 옷에 어울리는 치마로 추천해주세요.', '  처음 대학교 들어가는데 입을 옷 코디해주세요.  신입생 코디에 어울리게 화사한 스웨터를 추천해드릴게요.  이 옷에 어울리는 치마로 추천해주세요.  고객님의 키 사이즈에 맞추면 이런 옷도 잘 어울리실 것 같은데 어떠신가요?  제가 키가 작아서 짧은 치마로 추천해주세요.', '  처음 대학교 들어가는데 입을 옷 코디해주세요.  신입생 코디에 어울리게 화사한 스웨터를 추천해드릴게요.  이 옷에 어울리는 치마로 추천해주세요.  고객님의 키 사이즈에 맞추면 이런 옷도 잘 어울리실 것 같은데 어떠신가요?  제가 키가 작아서 짧은 치마로 추천해주세요.  상의 색상과도 매칭이 잘 어울리는 짧은 치마입니다.  어두운 계열은 없나요?', '  처음 대학교 들어가는데 입을 옷 코디해주세요.  신입생 코디에 어울리게 화사한 스웨터를 추천해드릴게요.  이 옷에 어울리는 치마로 추천해주세요.  고객님의 키 사이즈에 맞추면 이런 옷도 잘 어울리실 것 같은데 어떠신가요?  제가 키가 작아서 짧은 치마로 추천해주세요.  상의 색상과도 매칭이 잘 어울리는 짧은 치마입니다.  어두운 계열은 없나요?  언밸런스한 컷팅으로 세련미를 돋보이게 하는 치마인데, 마음에 드시나요?  나쁘지 않네요. 외투도 추천해주시겠어요?  요즘 계절에는 가디건이나 자켓을 걸치기에 좋은데, 특정 종류로 원하는 게 있으신가요?  트렌치코트 종류로 추천해주세요.']\n",
      "['SW-009', 'SK-016', 'SK-052', 'SK-053', 'CT-019']\n"
     ]
    }
   ],
   "source": [
    "# 데이터 분류\n",
    "X = []\n",
    "y = []\n",
    "talks = ''\n",
    "for i in range(len(ddata)):\n",
    "    if ddata['TAG'][i] == 'INTRO':\n",
    "        talks = ''\n",
    "    elif ddata['speaker'][i] == '<AC>':\n",
    "        X.append(talks)\n",
    "        y.append(ddata['talk'][i])\n",
    "    else:\n",
    "        talks = talks + ' ' + ddata['talk'][i]\n",
    "        \n",
    "\n",
    "print(X[:5])\n",
    "print(y[:5])"
   ]
  },
  {
   "cell_type": "code",
   "execution_count": 213,
   "metadata": {},
   "outputs": [],
   "source": [
    "# test set과 train set 분류\n",
    "from sklearn.model_selection import train_test_split\n",
    "X_train, X_test, y_train, y_test = train_test_split(X, y, test_size=0.33, random_state=1234)"
   ]
  },
  {
   "cell_type": "code",
   "execution_count": 214,
   "metadata": {},
   "outputs": [
    {
     "name": "stdout",
     "output_type": "stream",
     "text": [
      "[' 이번에 친구들이랑 제주도가는데 귤 농장 체험을 한대요..  사진도 많이 찍을거라고 하니까 예쁘고 활동적인 옷으로 골라주세요  친구들과 함께 여행을 가시는군요! 어울리는 코디를 보여드리겠습니다. 잠시만 기다려주세요. 겨울 느낌의 차분한 울 코트와 레트로 컨츄리 느낌의 스커트를 함께 코디해보았습니다. 예쁘긴 한데 그래도 농장 체험하면 치마는 좀 불편할 것 같아요  치마말고 바지로 골라주세요  하의를 바지로 변경해드리겠습니다. 잠시만 기다려주세요.', '  이번에 학과에서 단체로 박물관 특별전시회 관람을 갈 예정이에요. 전시회에 갈 때 입을 옷을 추천해주세요.  활동하기 편한 바지가 포함된 코디를 보여드릴까요?  네. 아무래도 좀 많이 걸어야 되서 바지가 좋을 거 같네요.  알겠습니다. 잠시만 기다려주세요.  아직은 쌀쌀한 봄 날씨라서 따뜻하게 걸칠 수 있는 아우터와 함께 편안한 스타일로 코디해봤어요.  어떠신가요?  음.. 상의랑 바지가 편해 보이네요. 오래 걷기에 괜찮을 거 같아요.  아! 혹시 바지의 소재가 어떻게 되나요?  바지는 면 100% 재질로 두께감이 약간 있는 편이랍니다.  아. 면 100%이면 굉장히 편하겠어요. 마음에 들어요.  다만 아우터는 좀 바꿨으면 하는데요.  아마 관람갈 때 비가 올 예정이라서, 비 맞아도 괜찮을 아우터가 좋을 거 같아요.  적절한 아이템이 있는지 찾아볼게요. 잠시만 기다려주세요.', '  모임에서 입을 우아한 옷을 찾고 있어요.  네, 잠시만 기다려주세요.  날씨가 추우니 따뜻하게 입을 수 있는 코트와 우아한 원피스를 매칭해봤어요.  어떠신가요?  신발을 제외하고 다시 추천해주세요.  옷들이 대체로 추워보여요.  원피스 스타일로 계속 보여드릴까요, 아니면 투피스나 바지 스타일로 보여드릴까요?  투피스로 보여주세요.  네, 잠시만 기다려주세요.  우아한 주름이 포인트인 스커트와 겨울용으로 따뜻한 코트를 매칭한 코디랍니다.  마음에 드시나요?  여전히 상의와 하의가 너무 추워보여요.  바지로 바꿔주시고, 상의도 더 두꺼운 재질로 보여주세요.  알겠습니다. 잠시만 기다려주세요.', '  제가 헬스장 가서 입을 편한 옷을 찾고 있어요.  네. 잠시만 기다려주세요.  편하고 활동적인 스타일의 코디는 어떠세요?  음 전체적으로 마음에 들어요.  바지만 좀 바꿔주세요.  짧은 트레이닝복있나요?  네. 잠시만 기다려주세요.  짧은 트레이닝 바지입니다.', ' 쌀쌀한 날씨에 동창회를 가게 됐는데 옷이랑 신발 좀 추천해주세요. 네 잠시만 기다려주세요. 데일리한 옷을 좋아하시는 이용자님의 취향에 맞는 따뜻하고 포근하게 착용할 수 있는 코디입니다. 바지와 상의는 마음에 들어요. 근데 외투는 제가 입기에는 너무 유니크한 것 같아요. 신발은 가을에 신기엔 좀 더울 것 같아요. 신발과 외투를 바꿔드리겠습니다. 잠시만 기다려주세요.']\n",
      "['PT-096', 'JP-074 SH-018 PT-044 SE-044', 'CT-081 SW-044 PT-022 SE-022', 'PT-088', 'CD-113 SE-004']\n",
      "['  평소에 편하게 입을만한 데일리한 바지 추천해주세요.  네. 잠시만 기다려주세요.  가을 느낌의 바지는 어떠세요?', ' 오늘 제 강아지랑 강형욱 훈련사님을 만나러 가는데 입을 만한 편안한 코디 좀 추천해주세요 너무 후줄근해보이지 않았으면 좋겠어요 강아지학교를 방문하시면 강아지와 활동적으로 움직일 상황이 많으시니 바지가 포함된 코디로 추천드릴까요? 네 바지가 좋겠어요 네. 잠시만 기다려주세요.', '  발리로 가족여행을 떠나려 합니다. 휴가에 어울리는 옷을 추천해 주세요. 원피스랑 신발만 추천해 주세요.  네. 잠시만 기다려주세요.  여름 느낌이 물씬 풍기는 바캉스룩의 느낌의 원피스와 신발을 추천해드리고 싶네요.  신발은 땀날 것 같아요. 좀더 시원한 재질의 신발로 보여주세요.  네. 잠시만 기다려주세요.  클래식한 취향이시니 여름에 신기 좋은 클래식한 베이지&블랙의 조합이 독특한 신발은 어떠세요?', '  이번 겨울방학 동안에 내일로 할 거거든요. 장기간 동안 돌아다녀야 하니까 짐을 줄이고 싶은데. 가벼운 점퍼 같은 거 있나요?  네. 잠시만 기다려주세요.  두께가 적당한 가벼운 점퍼입니다.', '  친구들과 해외여행 갈때 입을 바캉스 룩을 추천해줘.  네. 잠시만 기다려주세요.  바캉스에 어울리는 원피스가 포함된 코디입니다.  원피스가 마음에 들지 않아.  다른 걸 보여줘.  원피스만 바꿔드릴까요? 아니면 모두 바꿔드릴까요?  원피스만 투피스로 바꿔줘.  네. 잠시만 기다려주세요.  원피스를 바캉스에 어울리는 블라우스와 반바지로 바꿔드렸습니다.  어울리지 않아.  겨울 데일리룩으로 다 바꿔줘  네. 잠시만 기다려주세요.  겨울에 어울리는 데일리 스웨터가 포함된 코디입니다.']\n",
      "['PT-007', 'JK-073 KN-056 PT-143 SE-060', 'SE-018', 'JP-018', 'CT-037 SW-030 SK-040 SE-044']\n"
     ]
    }
   ],
   "source": [
    "print(X_train[:5])\n",
    "print(y_train[:5])\n",
    "print(X_test[:5])\n",
    "print(y_test[:5])"
   ]
  },
  {
   "cell_type": "code",
   "execution_count": 215,
   "metadata": {},
   "outputs": [
    {
     "name": "stdout",
     "output_type": "stream",
     "text": [
      "<class 'list'>\n",
      "<class 'list'>\n",
      "<class 'list'>\n",
      "<class 'list'>\n"
     ]
    }
   ],
   "source": [
    "print(type(X_train))\n",
    "print(type(X_test))\n",
    "print(type(y_train))\n",
    "print(type(y_test))"
   ]
  },
  {
   "cell_type": "code",
   "execution_count": 217,
   "metadata": {},
   "outputs": [],
   "source": [
    "def savefile(data, fileName):\n",
    "    f = open('./data/'+fileName, 'w')\n",
    "    f.write('\\n'.join(data))\n",
    "    f.close()"
   ]
  },
  {
   "cell_type": "code",
   "execution_count": 219,
   "metadata": {},
   "outputs": [],
   "source": [
    "savefile(X, 'X')\n",
    "savefile(y, 'y')\n",
    "savefile(X_train, 'X_train')\n",
    "savefile(X_test, 'X_test')\n",
    "savefile(y_train, 'y_train')\n",
    "savefile(y_test, 'y_test')"
   ]
  },
  {
   "cell_type": "code",
   "execution_count": 220,
   "metadata": {},
   "outputs": [],
   "source": [
    "def loadFile(fileName):\n",
    "    f = open('./data/'+fileName, 'r')\n",
    "    data = f.readlines()\n",
    "    f.close()\n",
    "    return data"
   ]
  },
  {
   "cell_type": "code",
   "execution_count": 211,
   "metadata": {},
   "outputs": [],
   "source": [
    "X_train = loadFile('X_train')"
   ]
  },
  {
   "cell_type": "code",
   "execution_count": 212,
   "metadata": {},
   "outputs": [
    {
     "name": "stdout",
     "output_type": "stream",
     "text": [
      "[' 이번에 친구들이랑 제주도가는데 귤 농장 체험을 한대요..  사진도 많이 찍을거라고 하니까 예쁘고 활동적인 옷으로 골라주세요  친구들과 함께 여행을 가시는군요! 어울리는 코디를 보여드리겠습니다. 잠시만 기다려주세요. 겨울 느낌의 차분한 울 코트와 레트로 컨츄리 느낌의 스커트를 함께 코디해보았습니다. 예쁘긴 한데 그래도 농장 체험하면 치마는 좀 불편할 것 같아요  치마말고 바지로 골라주세요  하의를 바지로 변경해드리겠습니다. 잠시만 기다려주세요.\\n', '  이번에 학과에서 단체로 박물관 특별전시회 관람을 갈 예정이에요. 전시회에 갈 때 입을 옷을 추천해주세요.  활동하기 편한 바지가 포함된 코디를 보여드릴까요?  네. 아무래도 좀 많이 걸어야 되서 바지가 좋을 거 같네요.  알겠습니다. 잠시만 기다려주세요.  아직은 쌀쌀한 봄 날씨라서 따뜻하게 걸칠 수 있는 아우터와 함께 편안한 스타일로 코디해봤어요.  어떠신가요?  음.. 상의랑 바지가 편해 보이네요. 오래 걷기에 괜찮을 거 같아요.  아! 혹시 바지의 소재가 어떻게 되나요?  바지는 면 100% 재질로 두께감이 약간 있는 편이랍니다.  아. 면 100%이면 굉장히 편하겠어요. 마음에 들어요.  다만 아우터는 좀 바꿨으면 하는데요.  아마 관람갈 때 비가 올 예정이라서, 비 맞아도 괜찮을 아우터가 좋을 거 같아요.  적절한 아이템이 있는지 찾아볼게요. 잠시만 기다려주세요.\\n', '  모임에서 입을 우아한 옷을 찾고 있어요.  네, 잠시만 기다려주세요.  날씨가 추우니 따뜻하게 입을 수 있는 코트와 우아한 원피스를 매칭해봤어요.  어떠신가요?  신발을 제외하고 다시 추천해주세요.  옷들이 대체로 추워보여요.  원피스 스타일로 계속 보여드릴까요, 아니면 투피스나 바지 스타일로 보여드릴까요?  투피스로 보여주세요.  네, 잠시만 기다려주세요.  우아한 주름이 포인트인 스커트와 겨울용으로 따뜻한 코트를 매칭한 코디랍니다.  마음에 드시나요?  여전히 상의와 하의가 너무 추워보여요.  바지로 바꿔주시고, 상의도 더 두꺼운 재질로 보여주세요.  알겠습니다. 잠시만 기다려주세요.\\n', '  제가 헬스장 가서 입을 편한 옷을 찾고 있어요.  네. 잠시만 기다려주세요.  편하고 활동적인 스타일의 코디는 어떠세요?  음 전체적으로 마음에 들어요.  바지만 좀 바꿔주세요.  짧은 트레이닝복있나요?  네. 잠시만 기다려주세요.  짧은 트레이닝 바지입니다.\\n', ' 쌀쌀한 날씨에 동창회를 가게 됐는데 옷이랑 신발 좀 추천해주세요. 네 잠시만 기다려주세요. 데일리한 옷을 좋아하시는 이용자님의 취향에 맞는 따뜻하고 포근하게 착용할 수 있는 코디입니다. 바지와 상의는 마음에 들어요. 근데 외투는 제가 입기에는 너무 유니크한 것 같아요. 신발은 가을에 신기엔 좀 더울 것 같아요. 신발과 외투를 바꿔드리겠습니다. 잠시만 기다려주세요.\\n']\n"
     ]
    }
   ],
   "source": [
    "print(X_train[:5])"
   ]
  },
  {
   "cell_type": "code",
   "execution_count": null,
   "metadata": {},
   "outputs": [],
   "source": []
  }
 ],
 "metadata": {
  "kernelspec": {
   "display_name": "Python 3",
   "language": "python",
   "name": "python3"
  },
  "language_info": {
   "codemirror_mode": {
    "name": "ipython",
    "version": 3
   },
   "file_extension": ".py",
   "mimetype": "text/x-python",
   "name": "python",
   "nbconvert_exporter": "python",
   "pygments_lexer": "ipython3",
   "version": "3.6.10"
  }
 },
 "nbformat": 4,
 "nbformat_minor": 4
}
