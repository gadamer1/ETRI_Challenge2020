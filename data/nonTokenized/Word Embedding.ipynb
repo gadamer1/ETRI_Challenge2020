{
 "cells": [
  {
   "cell_type": "markdown",
   "metadata": {},
   "source": [
    "# 데이터 가져오기"
   ]
  },
  {
   "cell_type": "code",
   "execution_count": 78,
   "metadata": {},
   "outputs": [],
   "source": [
    "# ddata 가져오기\n",
    "import pandas as pd\n",
    "ddata = pd.read_csv('ddata.txt', sep='\\t', encoding='CP949', header=None, names=['No.', 'speaker', 'talk', 'TAG'])"
   ]
  },
  {
   "cell_type": "code",
   "execution_count": 79,
   "metadata": {},
   "outputs": [
    {
     "data": {
      "text/html": [
       "<div>\n",
       "<style scoped>\n",
       "    .dataframe tbody tr th:only-of-type {\n",
       "        vertical-align: middle;\n",
       "    }\n",
       "\n",
       "    .dataframe tbody tr th {\n",
       "        vertical-align: top;\n",
       "    }\n",
       "\n",
       "    .dataframe thead th {\n",
       "        text-align: right;\n",
       "    }\n",
       "</style>\n",
       "<table border=\"1\" class=\"dataframe\">\n",
       "  <thead>\n",
       "    <tr style=\"text-align: right;\">\n",
       "      <th></th>\n",
       "      <th>No.</th>\n",
       "      <th>speaker</th>\n",
       "      <th>talk</th>\n",
       "      <th>TAG</th>\n",
       "    </tr>\n",
       "  </thead>\n",
       "  <tbody>\n",
       "    <tr>\n",
       "      <th>0</th>\n",
       "      <td>0.0</td>\n",
       "      <td>&lt;CO&gt;</td>\n",
       "      <td>어서오세요. 코디봇입니다. 무엇을 도와드릴까요?</td>\n",
       "      <td>INTRO</td>\n",
       "    </tr>\n",
       "    <tr>\n",
       "      <th>1</th>\n",
       "      <td>1.0</td>\n",
       "      <td>&lt;US&gt;</td>\n",
       "      <td>처음 대학교 들어가는데 입을 옷 코디해주세요.</td>\n",
       "      <td>NaN</td>\n",
       "    </tr>\n",
       "    <tr>\n",
       "      <th>2</th>\n",
       "      <td>2.0</td>\n",
       "      <td>&lt;CO&gt;</td>\n",
       "      <td>신입생 코디에 어울리게 화사한 스웨터를 추천해드릴게요.</td>\n",
       "      <td>EXP_RES_SITUATION;EXP_RES_DESCRIPTION</td>\n",
       "    </tr>\n",
       "    <tr>\n",
       "      <th>3</th>\n",
       "      <td>3.0</td>\n",
       "      <td>&lt;AC&gt;</td>\n",
       "      <td>SW-009</td>\n",
       "      <td>NaN</td>\n",
       "    </tr>\n",
       "    <tr>\n",
       "      <th>4</th>\n",
       "      <td>4.0</td>\n",
       "      <td>&lt;US&gt;</td>\n",
       "      <td>이 옷에 어울리는 치마로 추천해주세요.</td>\n",
       "      <td>USER_SUCCESS</td>\n",
       "    </tr>\n",
       "  </tbody>\n",
       "</table>\n",
       "</div>"
      ],
      "text/plain": [
       "   No. speaker                             talk  \\\n",
       "0  0.0    <CO>       어서오세요. 코디봇입니다. 무엇을 도와드릴까요?   \n",
       "1  1.0    <US>        처음 대학교 들어가는데 입을 옷 코디해주세요.   \n",
       "2  2.0    <CO>   신입생 코디에 어울리게 화사한 스웨터를 추천해드릴게요.   \n",
       "3  3.0    <AC>                           SW-009   \n",
       "4  4.0    <US>            이 옷에 어울리는 치마로 추천해주세요.   \n",
       "\n",
       "                                     TAG  \n",
       "0                                  INTRO  \n",
       "1                                    NaN  \n",
       "2  EXP_RES_SITUATION;EXP_RES_DESCRIPTION  \n",
       "3                                    NaN  \n",
       "4                           USER_SUCCESS  "
      ]
     },
     "execution_count": 79,
     "metadata": {},
     "output_type": "execute_result"
    }
   ],
   "source": [
    "ddata.head()"
   ]
  },
  {
   "cell_type": "code",
   "execution_count": 80,
   "metadata": {},
   "outputs": [],
   "source": [
    "# mdata 가져오기\n",
    "mdata = pd.read_csv('mdata.txt', sep='\\t', encoding='CP949', header=None, names=['ID', 'OTBS', 'type', 'FMCE', 'explain'])"
   ]
  },
  {
   "cell_type": "code",
   "execution_count": 81,
   "metadata": {},
   "outputs": [
    {
     "data": {
      "text/html": [
       "<div>\n",
       "<style scoped>\n",
       "    .dataframe tbody tr th:only-of-type {\n",
       "        vertical-align: middle;\n",
       "    }\n",
       "\n",
       "    .dataframe tbody tr th {\n",
       "        vertical-align: top;\n",
       "    }\n",
       "\n",
       "    .dataframe thead th {\n",
       "        text-align: right;\n",
       "    }\n",
       "</style>\n",
       "<table border=\"1\" class=\"dataframe\">\n",
       "  <thead>\n",
       "    <tr style=\"text-align: right;\">\n",
       "      <th></th>\n",
       "      <th>ID</th>\n",
       "      <th>OTBS</th>\n",
       "      <th>type</th>\n",
       "      <th>FMCE</th>\n",
       "      <th>explain</th>\n",
       "    </tr>\n",
       "  </thead>\n",
       "  <tbody>\n",
       "    <tr>\n",
       "      <th>0</th>\n",
       "      <td>BL-001</td>\n",
       "      <td>T</td>\n",
       "      <td>BL</td>\n",
       "      <td>F</td>\n",
       "      <td>단추 여밈의 전체 오픈형</td>\n",
       "    </tr>\n",
       "    <tr>\n",
       "      <th>1</th>\n",
       "      <td>BL-001</td>\n",
       "      <td>T</td>\n",
       "      <td>BL</td>\n",
       "      <td>F</td>\n",
       "      <td>스탠드 칼라와 브이넥 네크라인의 결합스타일</td>\n",
       "    </tr>\n",
       "    <tr>\n",
       "      <th>2</th>\n",
       "      <td>BL-001</td>\n",
       "      <td>T</td>\n",
       "      <td>BL</td>\n",
       "      <td>F</td>\n",
       "      <td>손목까지 내려오는 일자형 소매</td>\n",
       "    </tr>\n",
       "    <tr>\n",
       "      <th>3</th>\n",
       "      <td>BL-001</td>\n",
       "      <td>T</td>\n",
       "      <td>BL</td>\n",
       "      <td>F</td>\n",
       "      <td>여유로운 핏</td>\n",
       "    </tr>\n",
       "    <tr>\n",
       "      <th>4</th>\n",
       "      <td>BL-001</td>\n",
       "      <td>T</td>\n",
       "      <td>BL</td>\n",
       "      <td>F</td>\n",
       "      <td>어깨에서 허리까지 세로 절개에 풍성한 러플 장식</td>\n",
       "    </tr>\n",
       "  </tbody>\n",
       "</table>\n",
       "</div>"
      ],
      "text/plain": [
       "        ID OTBS type FMCE                     explain\n",
       "0  BL-001    T   BL    F                단추 여밈의 전체 오픈형\n",
       "1  BL-001    T   BL    F      스탠드 칼라와 브이넥 네크라인의 결합스타일\n",
       "2  BL-001    T   BL    F             손목까지 내려오는 일자형 소매\n",
       "3  BL-001    T   BL    F                       여유로운 핏\n",
       "4  BL-001    T   BL    F   어깨에서 허리까지 세로 절개에 풍성한 러플 장식"
      ]
     },
     "execution_count": 81,
     "metadata": {},
     "output_type": "execute_result"
    }
   ],
   "source": [
    "mdata.head()"
   ]
  },
  {
   "cell_type": "markdown",
   "metadata": {},
   "source": [
    "# 워드 임베딩"
   ]
  },
  {
   "cell_type": "markdown",
   "metadata": {},
   "source": [
    "## 데이터 정제"
   ]
  },
  {
   "cell_type": "code",
   "execution_count": 83,
   "metadata": {},
   "outputs": [],
   "source": [
    "# ddata에서 의상추천 대화 제외하고 모든 대화 가져오기\n",
    "talks = ddata['talk'][ddata['speaker'] != '<AC>']\n",
    "#mtalks = mdata['explain']"
   ]
  },
  {
   "cell_type": "code",
   "execution_count": 55,
   "metadata": {},
   "outputs": [
    {
     "name": "stdout",
     "output_type": "stream",
     "text": [
      "0                    어서오세요. 코디봇입니다. 무엇을 도와드릴까요?\n",
      "1                     처음 대학교 들어가는데 입을 옷 코디해주세요.\n",
      "2                신입생 코디에 어울리게 화사한 스웨터를 추천해드릴게요.\n",
      "4                         이 옷에 어울리는 치마로 추천해주세요.\n",
      "6     고객님의 키 사이즈에 맞추면 이런 옷도 잘 어울리실 것 같은데 어떠신가요?\n",
      "Name: talk, dtype: object\n",
      "0                 단추 여밈의 전체 오픈형\n",
      "1       스탠드 칼라와 브이넥 네크라인의 결합스타일\n",
      "2              손목까지 내려오는 일자형 소매\n",
      "3                        여유로운 핏\n",
      "4    어깨에서 허리까지 세로 절개에 풍성한 러플 장식\n",
      "Name: explain, dtype: object\n"
     ]
    }
   ],
   "source": [
    "#print(dtalks.head())\n",
    "#print(mtalks.head())"
   ]
  },
  {
   "cell_type": "code",
   "execution_count": 57,
   "metadata": {},
   "outputs": [
    {
     "name": "stdout",
     "output_type": "stream",
     "text": [
      "130006 64632\n"
     ]
    }
   ],
   "source": [
    "#print(len(dtalks), len(mtalks))"
   ]
  },
  {
   "cell_type": "code",
   "execution_count": 58,
   "metadata": {},
   "outputs": [],
   "source": [
    "#talks = pd.concat([dtalks, mtalks])"
   ]
  },
  {
   "cell_type": "code",
   "execution_count": 84,
   "metadata": {},
   "outputs": [
    {
     "data": {
      "text/plain": [
       "0                    어서오세요. 코디봇입니다. 무엇을 도와드릴까요?\n",
       "1                     처음 대학교 들어가는데 입을 옷 코디해주세요.\n",
       "2                신입생 코디에 어울리게 화사한 스웨터를 추천해드릴게요.\n",
       "4                         이 옷에 어울리는 치마로 추천해주세요.\n",
       "6     고객님의 키 사이즈에 맞추면 이런 옷도 잘 어울리실 것 같은데 어떠신가요?\n",
       "Name: talk, dtype: object"
      ]
     },
     "execution_count": 84,
     "metadata": {},
     "output_type": "execute_result"
    }
   ],
   "source": [
    "talks[:5]"
   ]
  },
  {
   "cell_type": "code",
   "execution_count": 85,
   "metadata": {},
   "outputs": [
    {
     "name": "stdout",
     "output_type": "stream",
     "text": [
      "130006\n"
     ]
    }
   ],
   "source": [
    "print(len(talks))"
   ]
  },
  {
   "cell_type": "code",
   "execution_count": 86,
   "metadata": {},
   "outputs": [
    {
     "data": {
      "text/plain": [
       "True"
      ]
     },
     "execution_count": 86,
     "metadata": {},
     "output_type": "execute_result"
    }
   ],
   "source": [
    "# null값 검사\n",
    "talks.isnull().values.any()"
   ]
  },
  {
   "cell_type": "code",
   "execution_count": 87,
   "metadata": {},
   "outputs": [
    {
     "data": {
      "text/plain": [
       "15"
      ]
     },
     "execution_count": 87,
     "metadata": {},
     "output_type": "execute_result"
    }
   ],
   "source": [
    "talks.isnull().sum()"
   ]
  },
  {
   "cell_type": "code",
   "execution_count": 88,
   "metadata": {},
   "outputs": [],
   "source": [
    "talks = talks.dropna()"
   ]
  },
  {
   "cell_type": "code",
   "execution_count": 89,
   "metadata": {},
   "outputs": [
    {
     "data": {
      "text/plain": [
       "0                    어서오세요. 코디봇입니다. 무엇을 도와드릴까요?\n",
       "1                     처음 대학교 들어가는데 입을 옷 코디해주세요.\n",
       "2                신입생 코디에 어울리게 화사한 스웨터를 추천해드릴게요.\n",
       "4                         이 옷에 어울리는 치마로 추천해주세요.\n",
       "6     고객님의 키 사이즈에 맞추면 이런 옷도 잘 어울리실 것 같은데 어떠신가요?\n",
       "Name: talk, dtype: object"
      ]
     },
     "execution_count": 89,
     "metadata": {},
     "output_type": "execute_result"
    }
   ],
   "source": [
    "talks[:5]"
   ]
  },
  {
   "cell_type": "code",
   "execution_count": 90,
   "metadata": {},
   "outputs": [
    {
     "name": "stdout",
     "output_type": "stream",
     "text": [
      "129991\n"
     ]
    }
   ],
   "source": [
    "print(len(talks))"
   ]
  },
  {
   "cell_type": "code",
   "execution_count": 92,
   "metadata": {},
   "outputs": [],
   "source": [
    "talks = talks.str.replace(\"[^ㄱ-ㅎㅏ-ㅣ가-힣 ]\",\"\")"
   ]
  },
  {
   "cell_type": "code",
   "execution_count": 93,
   "metadata": {},
   "outputs": [
    {
     "data": {
      "text/plain": [
       "0                      어서오세요 코디봇입니다 무엇을 도와드릴까요\n",
       "1                     처음 대학교 들어가는데 입을 옷 코디해주세요\n",
       "2                신입생 코디에 어울리게 화사한 스웨터를 추천해드릴게요\n",
       "4                         이 옷에 어울리는 치마로 추천해주세요\n",
       "6     고객님의 키 사이즈에 맞추면 이런 옷도 잘 어울리실 것 같은데 어떠신가요\n",
       "Name: talk, dtype: object"
      ]
     },
     "execution_count": 93,
     "metadata": {},
     "output_type": "execute_result"
    }
   ],
   "source": [
    "talks[:5]"
   ]
  },
  {
   "cell_type": "code",
   "execution_count": 95,
   "metadata": {},
   "outputs": [],
   "source": [
    "stopwords = ['의','가','이','은','들','는','좀','잘','걍','과','도','을','를','으로','자','에','와','한','하다']"
   ]
  },
  {
   "cell_type": "markdown",
   "metadata": {},
   "source": [
    "## 워드 임베딩 학습"
   ]
  },
  {
   "cell_type": "code",
   "execution_count": 96,
   "metadata": {},
   "outputs": [],
   "source": [
    "from konlpy.tag import Okt\n",
    "okt = Okt()\n",
    "tokenized_data = []\n",
    "for talk in talks:\n",
    "    tmp = okt.morphs(talk, stem=True)\n",
    "    tmp = [word for word in tmp if not word in stopwords]\n",
    "    tokenized_data.append(tmp)"
   ]
  },
  {
   "cell_type": "code",
   "execution_count": 97,
   "metadata": {},
   "outputs": [
    {
     "name": "stdout",
     "output_type": "stream",
     "text": [
      "대화의 최대 길이 : 30\n",
      "대화의 평균 길이 : 5.895823557015485\n"
     ]
    },
    {
     "data": {
      "image/png": "[encoded data removed]",
      "text/plain": [
       "<Figure size 432x288 with 1 Axes>"
      ]
     },
     "metadata": {
      "needs_background": "light"
     },
     "output_type": "display_data"
    }
   ],
   "source": [
    "import matplotlib.pyplot as plt\n",
    "print('대화의 최대 길이 :', max(len(l) for l in tokenized_data))\n",
    "print('대화의 평균 길이 :', sum(map(len,tokenized_data))/len(tokenized_data))\n",
    "plt.hist([len(s) for s in tokenized_data], bins=50)\n",
    "plt.xlabel('length of samples')\n",
    "plt.ylabel('number of samples')\n",
    "plt.show()"
   ]
  },
  {
   "cell_type": "code",
   "execution_count": 98,
   "metadata": {},
   "outputs": [],
   "source": [
    "from gensim.models import Word2Vec\n",
    "model = Word2Vec(sentences = tokenized_data, size=100, window=5, min_count=5, workers=4, sg=0)"
   ]
  },
  {
   "cell_type": "code",
   "execution_count": 99,
   "metadata": {},
   "outputs": [
    {
     "data": {
      "text/plain": [
       "(2571, 100)"
      ]
     },
     "execution_count": 99,
     "metadata": {},
     "output_type": "execute_result"
    }
   ],
   "source": [
    "model.wv.vectors.shape"
   ]
  },
  {
   "cell_type": "code",
   "execution_count": 120,
   "metadata": {},
   "outputs": [],
   "source": [
    "from gensim.models import KeyedVectors\n",
    "model.wv.save_word2vec_format('./data/Word2Vec')"
   ]
  },
  {
   "cell_type": "code",
   "execution_count": 123,
   "metadata": {},
   "outputs": [
    {
     "name": "stdout",
     "output_type": "stream",
     "text": [
      "[('물리다', 0.9473070502281189), ('뚫리다', 0.9361838102340698), ('살', 0.9283466935157776), ('벌레', 0.9282516241073608), ('뛰어다니다', 0.9216130971908569), ('산이', 0.919693112373352), ('강원도', 0.919255256652832), ('오는', 0.916861891746521), ('지저분하다', 0.914044976234436), ('치렁', 0.9137977361679077)]\n"
     ]
    }
   ],
   "source": [
    "print(model.wv.most_similar(\"모기\"))"
   ]
  },
  {
   "cell_type": "code",
   "execution_count": null,
   "metadata": {},
   "outputs": [],
   "source": [
    "#만 한 이다 음 아 거나 그게 라고"
   ]
  }
 ],
 "metadata": {
  "kernelspec": {
   "display_name": "Python 3",
   "language": "python",
   "name": "python3"
  },
  "language_info": {
   "codemirror_mode": {
    "name": "ipython",
    "version": 3
   },
   "file_extension": ".py",
   "mimetype": "text/x-python",
   "name": "python",
   "nbconvert_exporter": "python",
   "pygments_lexer": "ipython3",
   "version": "3.6.10"
  }
 },
 "nbformat": 4,
 "nbformat_minor": 4
}
