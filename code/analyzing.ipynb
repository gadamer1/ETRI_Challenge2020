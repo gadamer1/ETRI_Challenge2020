{
 "cells": [
  {
   "cell_type": "markdown",
   "metadata": {},
   "source": [
    "# 데이터 분석"
   ]
  },
  {
   "cell_type": "markdown",
   "metadata": {},
   "source": [
    "## 1. 패키지 임포팅"
   ]
  },
  {
   "cell_type": "code",
   "execution_count": 6,
   "metadata": {},
   "outputs": [],
   "source": [
    "import numpy as np\n",
    "import pandas as pd\n",
    "import matplotlib.pyplot as plt\n",
    "%matplotlib inline"
   ]
  },
  {
   "cell_type": "markdown",
   "metadata": {},
   "source": [
    "## 2. 데이터 불러오기"
   ]
  },
  {
   "cell_type": "code",
   "execution_count": 14,
   "metadata": {},
   "outputs": [],
   "source": [
    "dataset = pd.read_csv('../data/Tokenized/ddata.txt',encoding='cp1252')"
   ]
  },
  {
   "cell_type": "code",
   "execution_count": 15,
   "metadata": {},
   "outputs": [
    {
     "data": {
      "text/html": [
       "<div>\n",
       "<style scoped>\n",
       "    .dataframe tbody tr th:only-of-type {\n",
       "        vertical-align: middle;\n",
       "    }\n",
       "\n",
       "    .dataframe tbody tr th {\n",
       "        vertical-align: top;\n",
       "    }\n",
       "\n",
       "    .dataframe thead th {\n",
       "        text-align: right;\n",
       "    }\n",
       "</style>\n",
       "<table border=\"1\" class=\"dataframe\">\n",
       "  <thead>\n",
       "    <tr style=\"text-align: right;\">\n",
       "      <th></th>\n",
       "      <th>0 \\t&lt;CO&gt;\\t¾î¼­ ¿À ¼¼ ¿ä ÄÚµð º¿ ÀÔ ´Ï´Ù ¹«¾ù À» µµ¿Í µå¸±_±î ¿ä\\tINTRO</th>\n",
       "    </tr>\n",
       "  </thead>\n",
       "  <tbody>\n",
       "    <tr>\n",
       "      <th>0</th>\n",
       "      <td>1 \\t&lt;US&gt;\\tÃ³À½ ´ëÇÐ±³ µé¾î°¡ ´Âµ¥ ÀÔ À» ¿Ê ÄÚµ...</td>\n",
       "    </tr>\n",
       "    <tr>\n",
       "      <th>1</th>\n",
       "      <td>2 \\t&lt;CO&gt;\\t½ÅÀÔ»ý ÄÚµð ¿¡ ¾î¿ï¸® °Ô È­»ç ÇÑ ½º¿...</td>\n",
       "    </tr>\n",
       "    <tr>\n",
       "      <th>2</th>\n",
       "      <td>3 \\t&lt;AC&gt;\\tSW-009</td>\n",
       "    </tr>\n",
       "    <tr>\n",
       "      <th>3</th>\n",
       "      <td>4 \\t&lt;US&gt;\\tÀÌ ¿Ê ¿¡ ¾î¿ï¸® ´Â Ä¡¸¶ ·Î ÃßÃµ_ÇØ Á...</td>\n",
       "    </tr>\n",
       "    <tr>\n",
       "      <th>4</th>\n",
       "      <td>5 \\t&lt;AC&gt;\\tSK-016</td>\n",
       "    </tr>\n",
       "    <tr>\n",
       "      <th>...</th>\n",
       "      <td>...</td>\n",
       "    </tr>\n",
       "    <tr>\n",
       "      <th>154656</th>\n",
       "      <td>15 \\t&lt;AC&gt;\\tCT-022 SE-080 OP-051</td>\n",
       "    </tr>\n",
       "    <tr>\n",
       "      <th>154657</th>\n",
       "      <td>16 \\t&lt;CO&gt;\\t¼±ÅÃ_ÇÏ ½Å ÃÖÁ¾ ÄÚµð ÀÔ´Ï´Ù ¸¶À½ ¿¡...</td>\n",
       "    </tr>\n",
       "    <tr>\n",
       "      <th>154658</th>\n",
       "      <td>17 \\t&lt;US&gt;\\t³× »çÁø ¿¡µµ Àß ³ª¿Ã_°Í °° ¾Æ ¿ä\\tU...</td>\n",
       "    </tr>\n",
       "    <tr>\n",
       "      <th>154659</th>\n",
       "      <td>18 \\t&lt;CO&gt;\\t¸¶À½ ¿¡ µå ½Å_´Ù ´Ï ´ÙÇà ÀÔ ´Ï´Ù\\tS...</td>\n",
       "    </tr>\n",
       "    <tr>\n",
       "      <th>154660</th>\n",
       "      <td>19 \\t&lt;CO&gt;\\tÀÌ¿ë_ÇØ ÁÖ ¼Å ¼­ °¨»ç_ÇÕ ´Ï´Ù ÄÚµð ...</td>\n",
       "    </tr>\n",
       "  </tbody>\n",
       "</table>\n",
       "<p>154661 rows × 1 columns</p>\n",
       "</div>"
      ],
      "text/plain": [
       "       0 \\t<CO>\\t¾î¼­ ¿À ¼¼ ¿ä ÄÚµð º¿ ÀÔ ´Ï´Ù ¹«¾ù À» µµ¿Í µå¸±_±î ¿ä\\tINTRO\n",
       "0       1 \\t<US>\\tÃ³À½ ´ëÇÐ±³ µé¾î°¡ ´Âµ¥ ÀÔ À» ¿Ê ÄÚµ...                    \n",
       "1       2 \\t<CO>\\t½ÅÀÔ»ý ÄÚµð ¿¡ ¾î¿ï¸® °Ô È­»ç ÇÑ ½º¿...                    \n",
       "2                                        3 \\t<AC>\\tSW-009                    \n",
       "3       4 \\t<US>\\tÀÌ ¿Ê ¿¡ ¾î¿ï¸® ´Â Ä¡¸¶ ·Î ÃßÃµ_ÇØ Á...                    \n",
       "4                                        5 \\t<AC>\\tSK-016                    \n",
       "...                                                   ...                    \n",
       "154656                    15 \\t<AC>\\tCT-022 SE-080 OP-051                    \n",
       "154657  16 \\t<CO>\\t¼±ÅÃ_ÇÏ ½Å ÃÖÁ¾ ÄÚµð ÀÔ´Ï´Ù ¸¶À½ ¿¡...                    \n",
       "154658  17 \\t<US>\\t³× »çÁø ¿¡µµ Àß ³ª¿Ã_°Í °° ¾Æ ¿ä\\tU...                    \n",
       "154659  18 \\t<CO>\\t¸¶À½ ¿¡ µå ½Å_´Ù ´Ï ´ÙÇà ÀÔ ´Ï´Ù\\tS...                    \n",
       "154660  19 \\t<CO>\\tÀÌ¿ë_ÇØ ÁÖ ¼Å ¼­ °¨»ç_ÇÕ ´Ï´Ù ÄÚµð ...                    \n",
       "\n",
       "[154661 rows x 1 columns]"
      ]
     },
     "execution_count": 15,
     "metadata": {},
     "output_type": "execute_result"
    }
   ],
   "source": [
    "dataset"
   ]
  },
  {
   "cell_type": "code",
   "execution_count": null,
   "metadata": {},
   "outputs": [],
   "source": []
  }
 ],
 "metadata": {
  "kernelspec": {
   "display_name": "Python 3",
   "language": "python",
   "name": "python3"
  },
  "language_info": {
   "codemirror_mode": {
    "name": "ipython",
    "version": 3
   },
   "file_extension": ".py",
   "mimetype": "text/x-python",
   "name": "python",
   "nbconvert_exporter": "python",
   "pygments_lexer": "ipython3",
   "version": "3.8.5"
  }
 },
 "nbformat": 4,
 "nbformat_minor": 4
}
